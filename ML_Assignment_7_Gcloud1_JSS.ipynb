{
  "nbformat": 4,
  "nbformat_minor": 0,
  "metadata": {
    "colab": {
      "name": "ML Assignment 7_Gcloud1_JSS.ipynb",
      "provenance": [],
      "include_colab_link": true
    },
    "kernelspec": {
      "name": "python3",
      "display_name": "Python 3"
    },
    "accelerator": "TPU"
  },
  "cells": [
    {
      "cell_type": "markdown",
      "metadata": {
        "id": "view-in-github",
        "colab_type": "text"
      },
      "source": [
        "<a href=\"https://colab.research.google.com/github/basu-a/ML_UChicago/blob/master/ML_Assignment_7_Gcloud1_JSS.ipynb\" target=\"_parent\"><img src=\"https://colab.research.google.com/assets/colab-badge.svg\" alt=\"Open In Colab\"/></a>"
      ]
    },
    {
      "cell_type": "markdown",
      "metadata": {
        "id": "rspFULakBPgs",
        "colab_type": "text"
      },
      "source": [
        "<div style=\"display:block\">\n",
        "    <div style=\"width: 15%; display: inline-block; text-align: left;\">\n",
        "        <img src=\"https://d3qi0qp55mx5f5.cloudfront.net/shared-resources/i/template/uc_wordmark_hires.gif\" style=\"height:40px; margin-left:0px\" />\n",
        "    </div>\n",
        "    <div style=\"width: 58%; display: inline-block\">\n",
        "        <h1  style=\"text-align: center\">Assignment 7 - Machine Learning</h1>\n",
        "        <div style=\"width: 100%; text-align: center; display: inline-block;\"><i>Authors: Basuraj Agrawal</i> </div>\n",
        "    </div>\n",
        "    <div style=\"width: 25%; text-align: right; display: inline-block;\">\n",
        "        <div style=\"width: 100%; text-align: left; display: inline-block;\">\n",
        "            <time datetime=\"2016-11-21\" pubdate>Nov 21, 2019</time>\n",
        "        </div>\n",
        "    </div>\n",
        "    <hr> </hr>\n",
        "</div>\n"
      ]
    },
    {
      "cell_type": "code",
      "metadata": {
        "id": "0zYMNuubqaEF",
        "colab_type": "code",
        "outputId": "8852a620-d570-43a8-b443-3ac1478ae835",
        "colab": {
          "base_uri": "https://localhost:8080/",
          "height": 34
        }
      },
      "source": [
        "import sys\n",
        "import os\n",
        "import json\n",
        "import pandas\n",
        "import numpy\n",
        "import optparse\n",
        "\n",
        "from keras.callbacks import TensorBoard\n",
        "from keras.models import Sequential, load_model\n",
        "from keras.layers import LSTM, Dense, Dropout\n",
        "from keras.layers.embeddings import Embedding\n",
        "from keras.preprocessing import sequence\n",
        "from keras.preprocessing.text import Tokenizer\n",
        "from collections import OrderedDict\n"
      ],
      "execution_count": 0,
      "outputs": [
        {
          "output_type": "stream",
          "text": [
            "Using TensorFlow backend.\n"
          ],
          "name": "stderr"
        }
      ]
    },
    {
      "cell_type": "code",
      "metadata": {
        "id": "NPBpNGn3qcgi",
        "colab_type": "code",
        "outputId": "a401d347-acb6-4b8f-a061-764a694d01ed",
        "colab": {
          "base_uri": "https://localhost:8080/",
          "height": 123
        }
      },
      "source": [
        "from google.colab import drive\n",
        "drive.mount('/content/gdrive')"
      ],
      "execution_count": 0,
      "outputs": [
        {
          "output_type": "stream",
          "text": [
            "Go to this URL in a browser: https://accounts.google.com/o/oauth2/auth?client_id=947318989803-6bn6qk8qdgf4n4g3pfee6491hc0brc4i.apps.googleusercontent.com&redirect_uri=urn%3aietf%3awg%3aoauth%3a2.0%3aoob&response_type=code&scope=email%20https%3a%2f%2fwww.googleapis.com%2fauth%2fdocs.test%20https%3a%2f%2fwww.googleapis.com%2fauth%2fdrive%20https%3a%2f%2fwww.googleapis.com%2fauth%2fdrive.photos.readonly%20https%3a%2f%2fwww.googleapis.com%2fauth%2fpeopleapi.readonly\n",
            "\n",
            "Enter your authorization code:\n",
            "··········\n",
            "Mounted at /content/gdrive\n"
          ],
          "name": "stdout"
        }
      ]
    },
    {
      "cell_type": "code",
      "metadata": {
        "id": "FTdRT8zVqpMZ",
        "colab_type": "code",
        "colab": {}
      },
      "source": [
        "datasets = \"/content/gdrive/My Drive/datasets/msca/\""
      ],
      "execution_count": 0,
      "outputs": []
    },
    {
      "cell_type": "markdown",
      "metadata": {
        "id": "n7fHi3EVC6tt",
        "colab_type": "text"
      },
      "source": [
        "### 1. Data Processing"
      ]
    },
    {
      "cell_type": "code",
      "metadata": {
        "id": "ktRNJ2H6qp07",
        "colab_type": "code",
        "colab": {}
      },
      "source": [
        "dataframe = pandas.read_csv(datasets+\"dev-access.csv\", engine='python', quotechar='|', header=None)"
      ],
      "execution_count": 0,
      "outputs": []
    },
    {
      "cell_type": "code",
      "metadata": {
        "id": "iRnDc_Rhqpxh",
        "colab_type": "code",
        "outputId": "4127dfbf-4567-4c9a-9a68-bdc4f51476b8",
        "colab": {
          "base_uri": "https://localhost:8080/",
          "height": 79
        }
      },
      "source": [
        "dataframe.head(1)"
      ],
      "execution_count": 0,
      "outputs": [
        {
          "output_type": "execute_result",
          "data": {
            "text/html": [
              "<div>\n",
              "<style scoped>\n",
              "    .dataframe tbody tr th:only-of-type {\n",
              "        vertical-align: middle;\n",
              "    }\n",
              "\n",
              "    .dataframe tbody tr th {\n",
              "        vertical-align: top;\n",
              "    }\n",
              "\n",
              "    .dataframe thead th {\n",
              "        text-align: right;\n",
              "    }\n",
              "</style>\n",
              "<table border=\"1\" class=\"dataframe\">\n",
              "  <thead>\n",
              "    <tr style=\"text-align: right;\">\n",
              "      <th></th>\n",
              "      <th>0</th>\n",
              "      <th>1</th>\n",
              "    </tr>\n",
              "  </thead>\n",
              "  <tbody>\n",
              "    <tr>\n",
              "      <th>0</th>\n",
              "      <td>{\"timestamp\":1502738402847,\"method\":\"post\",\"qu...</td>\n",
              "      <td>0</td>\n",
              "    </tr>\n",
              "  </tbody>\n",
              "</table>\n",
              "</div>"
            ],
            "text/plain": [
              "                                                   0  1\n",
              "0  {\"timestamp\":1502738402847,\"method\":\"post\",\"qu...  0"
            ]
          },
          "metadata": {
            "tags": []
          },
          "execution_count": 5
        }
      ]
    },
    {
      "cell_type": "code",
      "metadata": {
        "id": "_7fq8oGBsIqj",
        "colab_type": "code",
        "outputId": "1df2f8d6-f5d9-4613-e7bd-294f390914a6",
        "colab": {
          "base_uri": "https://localhost:8080/",
          "height": 34
        }
      },
      "source": [
        "dataset = dataframe.values\n",
        "dataset.shape"
      ],
      "execution_count": 0,
      "outputs": [
        {
          "output_type": "execute_result",
          "data": {
            "text/plain": [
              "(26773, 2)"
            ]
          },
          "metadata": {
            "tags": []
          },
          "execution_count": 6
        }
      ]
    },
    {
      "cell_type": "code",
      "metadata": {
        "id": "RSTvecNasNMr",
        "colab_type": "code",
        "colab": {}
      },
      "source": [
        "X = dataset[:,0]\n",
        "Y = dataset[:,1]"
      ],
      "execution_count": 0,
      "outputs": []
    },
    {
      "cell_type": "code",
      "metadata": {
        "id": "Sg_7QntvsPfl",
        "colab_type": "code",
        "colab": {}
      },
      "source": [
        "for index, item in enumerate(X):\n",
        "    # Quick hack to space out json elements\n",
        "    reqJson = json.loads(item, object_pairs_hook=OrderedDict)\n",
        "    del reqJson['timestamp']\n",
        "    del reqJson['headers']\n",
        "    del reqJson['source']\n",
        "    del reqJson['route']\n",
        "    del reqJson['responsePayload']\n",
        "    X[index] = json.dumps(reqJson, separators=(',', ':'))\n"
      ],
      "execution_count": 0,
      "outputs": []
    },
    {
      "cell_type": "code",
      "metadata": {
        "id": "73iQiRo8sSMo",
        "colab_type": "code",
        "colab": {}
      },
      "source": [
        "tokenizer = Tokenizer(filters='\\t\\n', char_level=True)\n",
        "tokenizer.fit_on_texts(X)\n",
        "\n",
        "# we will need this later\n",
        "num_words = len(tokenizer.word_index)+1\n",
        "X = tokenizer.texts_to_sequences(X)\n"
      ],
      "execution_count": 0,
      "outputs": []
    },
    {
      "cell_type": "code",
      "metadata": {
        "id": "9Cp-0zhNsaiV",
        "colab_type": "code",
        "colab": {}
      },
      "source": [
        "max_log_length = 1024\n",
        "X_processed = sequence.pad_sequences(X, maxlen=max_log_length)"
      ],
      "execution_count": 0,
      "outputs": []
    },
    {
      "cell_type": "code",
      "metadata": {
        "id": "aMm5wWqwseBy",
        "colab_type": "code",
        "colab": {}
      },
      "source": [
        "from sklearn.model_selection import train_test_split\n",
        "\n",
        "X_train, X_test, y_train, y_test = train_test_split(X_processed, Y, test_size=0.25)"
      ],
      "execution_count": 0,
      "outputs": []
    },
    {
      "cell_type": "markdown",
      "metadata": {
        "id": "Hbyyqc73Cu1N",
        "colab_type": "text"
      },
      "source": [
        "### 2. Model 1 - RNN"
      ]
    },
    {
      "cell_type": "code",
      "metadata": {
        "id": "y84xRCwBsegw",
        "colab_type": "code",
        "outputId": "687821c3-b497-499a-d41a-6afe3f91b66f",
        "colab": {
          "base_uri": "https://localhost:8080/",
          "height": 120
        }
      },
      "source": [
        "from keras import models\n",
        "from keras import layers\n",
        "\n",
        "model_1 = models.Sequential()\n",
        "model_1.add(Embedding(num_words, 32, input_length = max_log_length))\n",
        "model_1.add(layers.SimpleRNN(units = 32, activation  = 'relu'))\n",
        "model_1.add(layers.Dense(1, activation = 'sigmoid'))\n"
      ],
      "execution_count": 0,
      "outputs": [
        {
          "output_type": "stream",
          "text": [
            "WARNING:tensorflow:From /usr/local/lib/python3.6/dist-packages/keras/backend/tensorflow_backend.py:66: The name tf.get_default_graph is deprecated. Please use tf.compat.v1.get_default_graph instead.\n",
            "\n",
            "WARNING:tensorflow:From /usr/local/lib/python3.6/dist-packages/keras/backend/tensorflow_backend.py:541: The name tf.placeholder is deprecated. Please use tf.compat.v1.placeholder instead.\n",
            "\n",
            "WARNING:tensorflow:From /usr/local/lib/python3.6/dist-packages/keras/backend/tensorflow_backend.py:4432: The name tf.random_uniform is deprecated. Please use tf.random.uniform instead.\n",
            "\n"
          ],
          "name": "stdout"
        }
      ]
    },
    {
      "cell_type": "code",
      "metadata": {
        "id": "wZYesGjDseoO",
        "colab_type": "code",
        "outputId": "65e7884b-3c50-4d46-bad3-a6d070aeeeea",
        "colab": {
          "base_uri": "https://localhost:8080/",
          "height": 137
        }
      },
      "source": [
        "model_1.compile(optimizer = 'adam',\n",
        "             loss = 'binary_crossentropy',\n",
        "             metrics = ['accuracy'])\n"
      ],
      "execution_count": 0,
      "outputs": [
        {
          "output_type": "stream",
          "text": [
            "WARNING:tensorflow:From /usr/local/lib/python3.6/dist-packages/keras/optimizers.py:793: The name tf.train.Optimizer is deprecated. Please use tf.compat.v1.train.Optimizer instead.\n",
            "\n",
            "WARNING:tensorflow:From /usr/local/lib/python3.6/dist-packages/keras/backend/tensorflow_backend.py:3657: The name tf.log is deprecated. Please use tf.math.log instead.\n",
            "\n",
            "WARNING:tensorflow:From /usr/local/lib/python3.6/dist-packages/tensorflow_core/python/ops/nn_impl.py:183: where (from tensorflow.python.ops.array_ops) is deprecated and will be removed in a future version.\n",
            "Instructions for updating:\n",
            "Use tf.where in 2.0, which has the same broadcast rule as np.where\n"
          ],
          "name": "stdout"
        }
      ]
    },
    {
      "cell_type": "code",
      "metadata": {
        "id": "JmbeiY1Ase0A",
        "colab_type": "code",
        "outputId": "b1e9f014-862f-42ed-d5f2-02e02411bd5a",
        "colab": {
          "base_uri": "https://localhost:8080/",
          "height": 257
        }
      },
      "source": [
        "model_1.summary()"
      ],
      "execution_count": 0,
      "outputs": [
        {
          "output_type": "stream",
          "text": [
            "Model: \"sequential_1\"\n",
            "_________________________________________________________________\n",
            "Layer (type)                 Output Shape              Param #   \n",
            "=================================================================\n",
            "embedding_1 (Embedding)      (None, 1024, 32)          2016      \n",
            "_________________________________________________________________\n",
            "simple_rnn_1 (SimpleRNN)     (None, 32)                2080      \n",
            "_________________________________________________________________\n",
            "dense_1 (Dense)              (None, 1)                 33        \n",
            "=================================================================\n",
            "Total params: 4,129\n",
            "Trainable params: 4,129\n",
            "Non-trainable params: 0\n",
            "_________________________________________________________________\n"
          ],
          "name": "stdout"
        }
      ]
    },
    {
      "cell_type": "code",
      "metadata": {
        "id": "FG1TeKeWsfEb",
        "colab_type": "code",
        "outputId": "a39efcd2-fad7-4e09-8038-65a0dd3d3117",
        "colab": {
          "base_uri": "https://localhost:8080/",
          "height": 448
        }
      },
      "source": [
        "model_1.fit(X_train, y_train, epochs = 3, batch_size = 128, validation_split = 0.25)"
      ],
      "execution_count": 0,
      "outputs": [
        {
          "output_type": "stream",
          "text": [
            "WARNING:tensorflow:From /usr/local/lib/python3.6/dist-packages/keras/backend/tensorflow_backend.py:1033: The name tf.assign_add is deprecated. Please use tf.compat.v1.assign_add instead.\n",
            "\n",
            "WARNING:tensorflow:From /usr/local/lib/python3.6/dist-packages/keras/backend/tensorflow_backend.py:1020: The name tf.assign is deprecated. Please use tf.compat.v1.assign instead.\n",
            "\n",
            "WARNING:tensorflow:From /usr/local/lib/python3.6/dist-packages/keras/backend/tensorflow_backend.py:3005: The name tf.Session is deprecated. Please use tf.compat.v1.Session instead.\n",
            "\n",
            "Train on 15059 samples, validate on 5020 samples\n",
            "Epoch 1/3\n",
            "WARNING:tensorflow:From /usr/local/lib/python3.6/dist-packages/keras/backend/tensorflow_backend.py:190: The name tf.get_default_session is deprecated. Please use tf.compat.v1.get_default_session instead.\n",
            "\n",
            "WARNING:tensorflow:From /usr/local/lib/python3.6/dist-packages/keras/backend/tensorflow_backend.py:197: The name tf.ConfigProto is deprecated. Please use tf.compat.v1.ConfigProto instead.\n",
            "\n",
            "WARNING:tensorflow:From /usr/local/lib/python3.6/dist-packages/keras/backend/tensorflow_backend.py:207: The name tf.global_variables is deprecated. Please use tf.compat.v1.global_variables instead.\n",
            "\n",
            "WARNING:tensorflow:From /usr/local/lib/python3.6/dist-packages/keras/backend/tensorflow_backend.py:216: The name tf.is_variable_initialized is deprecated. Please use tf.compat.v1.is_variable_initialized instead.\n",
            "\n",
            "WARNING:tensorflow:From /usr/local/lib/python3.6/dist-packages/keras/backend/tensorflow_backend.py:223: The name tf.variables_initializer is deprecated. Please use tf.compat.v1.variables_initializer instead.\n",
            "\n",
            "15059/15059 [==============================] - 27s 2ms/step - loss: 0.4838 - acc: 0.7692 - val_loss: 0.1796 - val_acc: 0.9847\n",
            "Epoch 2/3\n",
            "15059/15059 [==============================] - 26s 2ms/step - loss: 0.2314 - acc: 0.9260 - val_loss: 0.1171 - val_acc: 0.9777\n",
            "Epoch 3/3\n",
            "15059/15059 [==============================] - 26s 2ms/step - loss: 0.0863 - acc: 0.9821 - val_loss: 0.1761 - val_acc: 0.9657\n"
          ],
          "name": "stdout"
        },
        {
          "output_type": "execute_result",
          "data": {
            "text/plain": [
              "<keras.callbacks.History at 0x7f067a0cbb38>"
            ]
          },
          "metadata": {
            "tags": []
          },
          "execution_count": 15
        }
      ]
    },
    {
      "cell_type": "code",
      "metadata": {
        "id": "1Wgfz9P0sfL3",
        "colab_type": "code",
        "outputId": "576fef37-a37c-43f3-d31d-f713a0a436f0",
        "colab": {
          "base_uri": "https://localhost:8080/",
          "height": 51
        }
      },
      "source": [
        "model_1.evaluate(X_test, y_test, batch_size = 128)"
      ],
      "execution_count": 0,
      "outputs": [
        {
          "output_type": "stream",
          "text": [
            "6694/6694 [==============================] - 4s 527us/step\n"
          ],
          "name": "stdout"
        },
        {
          "output_type": "execute_result",
          "data": {
            "text/plain": [
              "[0.15809913999577727, 0.9669853599170517]"
            ]
          },
          "metadata": {
            "tags": []
          },
          "execution_count": 16
        }
      ]
    },
    {
      "cell_type": "markdown",
      "metadata": {
        "id": "fMWVPNweCsAZ",
        "colab_type": "text"
      },
      "source": [
        "### 3) Model 2 - LSTM + Dropout Layers:\n",
        "\n"
      ]
    },
    {
      "cell_type": "code",
      "metadata": {
        "id": "2zjqquKisfRZ",
        "colab_type": "code",
        "outputId": "df7bee83-f8fb-4c4e-a5d6-9ad5d4fdcc90",
        "colab": {
          "base_uri": "https://localhost:8080/",
          "height": 123
        }
      },
      "source": [
        "model_2 = models.Sequential()\n",
        "model_2.add(Embedding(num_words, 32, input_length = max_log_length))\n",
        "model_2.add(layers.LSTM(units = 64, recurrent_dropout=0.5))\n",
        "model_2.add(layers.Dropout(0.5))\n",
        "model_2.add(layers.Dense(1, activation = 'sigmoid'))"
      ],
      "execution_count": 0,
      "outputs": [
        {
          "output_type": "stream",
          "text": [
            "WARNING:tensorflow:From /usr/local/lib/python3.6/dist-packages/keras/backend/tensorflow_backend.py:148: The name tf.placeholder_with_default is deprecated. Please use tf.compat.v1.placeholder_with_default instead.\n",
            "\n",
            "WARNING:tensorflow:From /usr/local/lib/python3.6/dist-packages/keras/backend/tensorflow_backend.py:3733: calling dropout (from tensorflow.python.ops.nn_ops) with keep_prob is deprecated and will be removed in a future version.\n",
            "Instructions for updating:\n",
            "Please use `rate` instead of `keep_prob`. Rate should be set to `rate = 1 - keep_prob`.\n"
          ],
          "name": "stdout"
        }
      ]
    },
    {
      "cell_type": "code",
      "metadata": {
        "id": "rfCHN_dVsfXd",
        "colab_type": "code",
        "colab": {}
      },
      "source": [
        "model_2.compile(optimizer = 'adam',\n",
        "             loss = 'binary_crossentropy',\n",
        "             metrics = ['accuracy'])"
      ],
      "execution_count": 0,
      "outputs": []
    },
    {
      "cell_type": "code",
      "metadata": {
        "id": "TXmEUDBvsfCQ",
        "colab_type": "code",
        "outputId": "22230280-6d29-4322-fc9e-3cb1811cf859",
        "colab": {
          "base_uri": "https://localhost:8080/",
          "height": 291
        }
      },
      "source": [
        "model_2.summary()"
      ],
      "execution_count": 0,
      "outputs": [
        {
          "output_type": "stream",
          "text": [
            "Model: \"sequential_2\"\n",
            "_________________________________________________________________\n",
            "Layer (type)                 Output Shape              Param #   \n",
            "=================================================================\n",
            "embedding_2 (Embedding)      (None, 1024, 32)          2016      \n",
            "_________________________________________________________________\n",
            "lstm_1 (LSTM)                (None, 64)                24832     \n",
            "_________________________________________________________________\n",
            "dropout_1 (Dropout)          (None, 64)                0         \n",
            "_________________________________________________________________\n",
            "dense_2 (Dense)              (None, 1)                 65        \n",
            "=================================================================\n",
            "Total params: 26,913\n",
            "Trainable params: 26,913\n",
            "Non-trainable params: 0\n",
            "_________________________________________________________________\n"
          ],
          "name": "stdout"
        }
      ]
    },
    {
      "cell_type": "code",
      "metadata": {
        "id": "vlpVv4UAsfAM",
        "colab_type": "code",
        "outputId": "dd767506-a5e5-41f1-cf49-fa29beee59e5",
        "colab": {
          "base_uri": "https://localhost:8080/",
          "height": 154
        }
      },
      "source": [
        "model_2.fit(X_train, y_train, epochs = 3, batch_size = 128, validation_split = 0.25)"
      ],
      "execution_count": 0,
      "outputs": [
        {
          "output_type": "stream",
          "text": [
            "Train on 15059 samples, validate on 5020 samples\n",
            "Epoch 1/3\n",
            "15059/15059 [==============================] - 198s 13ms/step - loss: 0.5915 - acc: 0.6749 - val_loss: 0.4541 - val_acc: 0.8847\n",
            "Epoch 2/3\n",
            "15059/15059 [==============================] - 200s 13ms/step - loss: 0.3432 - acc: 0.8702 - val_loss: 0.2000 - val_acc: 0.9512\n",
            "Epoch 3/3\n",
            "15059/15059 [==============================] - 201s 13ms/step - loss: 0.2795 - acc: 0.9108 - val_loss: 0.1878 - val_acc: 0.9466\n"
          ],
          "name": "stdout"
        },
        {
          "output_type": "execute_result",
          "data": {
            "text/plain": [
              "<keras.callbacks.History at 0x7f0679492e48>"
            ]
          },
          "metadata": {
            "tags": []
          },
          "execution_count": 20
        }
      ]
    },
    {
      "cell_type": "code",
      "metadata": {
        "id": "To_y3t5vse8I",
        "colab_type": "code",
        "outputId": "ad1d8c77-0ccd-4721-9115-f256719bc9af",
        "colab": {
          "base_uri": "https://localhost:8080/",
          "height": 51
        }
      },
      "source": [
        "model_2.evaluate(X_test, y_test, batch_size = 128)"
      ],
      "execution_count": 0,
      "outputs": [
        {
          "output_type": "stream",
          "text": [
            "6694/6694 [==============================] - 17s 3ms/step\n"
          ],
          "name": "stdout"
        },
        {
          "output_type": "execute_result",
          "data": {
            "text/plain": [
              "[0.18620988326372587, 0.9499551836397885]"
            ]
          },
          "metadata": {
            "tags": []
          },
          "execution_count": 21
        }
      ]
    },
    {
      "cell_type": "markdown",
      "metadata": {
        "id": "3tj4XAT1CkPk",
        "colab_type": "text"
      },
      "source": [
        "#### 4) Recurrent Neural Net Model 3: Build Your Own Network"
      ]
    },
    {
      "cell_type": "code",
      "metadata": {
        "id": "pnuGpefbsexP",
        "colab_type": "code",
        "colab": {}
      },
      "source": [
        "model_3 = models.Sequential()\n",
        "model_3.add(Embedding(num_words, 64, input_length = max_log_length))\n",
        "model_3.add(layers.LSTM(units = 64, recurrent_dropout=0.5))\n",
        "model_3.add(layers.Dropout(0.5))\n",
        "model_3.add(layers.Dense(32, activation = 'relu'))\n",
        "model_3.add(layers.Dense(1, activation = 'sigmoid'))"
      ],
      "execution_count": 0,
      "outputs": []
    },
    {
      "cell_type": "code",
      "metadata": {
        "id": "-aUBTK_3seuP",
        "colab_type": "code",
        "colab": {}
      },
      "source": [
        "model_3.compile(optimizer = 'rmsprop',\n",
        "             loss = 'binary_crossentropy',\n",
        "             metrics = ['accuracy'])\n"
      ],
      "execution_count": 0,
      "outputs": []
    },
    {
      "cell_type": "code",
      "metadata": {
        "id": "iX71OgIXtCj-",
        "colab_type": "code",
        "outputId": "aabc404b-42a6-4fcb-a110-fd2d5cda6023",
        "colab": {
          "base_uri": "https://localhost:8080/",
          "height": 326
        }
      },
      "source": [
        "model_3.summary()"
      ],
      "execution_count": 0,
      "outputs": [
        {
          "output_type": "stream",
          "text": [
            "Model: \"sequential_3\"\n",
            "_________________________________________________________________\n",
            "Layer (type)                 Output Shape              Param #   \n",
            "=================================================================\n",
            "embedding_3 (Embedding)      (None, 1024, 64)          4032      \n",
            "_________________________________________________________________\n",
            "lstm_2 (LSTM)                (None, 64)                33024     \n",
            "_________________________________________________________________\n",
            "dropout_2 (Dropout)          (None, 64)                0         \n",
            "_________________________________________________________________\n",
            "dense_3 (Dense)              (None, 32)                2080      \n",
            "_________________________________________________________________\n",
            "dense_4 (Dense)              (None, 1)                 33        \n",
            "=================================================================\n",
            "Total params: 39,169\n",
            "Trainable params: 39,169\n",
            "Non-trainable params: 0\n",
            "_________________________________________________________________\n"
          ],
          "name": "stdout"
        }
      ]
    },
    {
      "cell_type": "code",
      "metadata": {
        "id": "JKMSEKAgtCvE",
        "colab_type": "code",
        "outputId": "0a950fc1-a4b5-4295-947f-f1cea8e48fb7",
        "colab": {
          "base_uri": "https://localhost:8080/",
          "height": 154
        }
      },
      "source": [
        "model_3.fit(X_train, y_train, epochs = 3, batch_size = 128, validation_split = 0.25)"
      ],
      "execution_count": 0,
      "outputs": [
        {
          "output_type": "stream",
          "text": [
            "Train on 15059 samples, validate on 5020 samples\n",
            "Epoch 1/3\n",
            "15059/15059 [==============================] - 218s 14ms/step - loss: 0.5368 - acc: 0.7268 - val_loss: 0.3195 - val_acc: 0.9392\n",
            "Epoch 2/3\n",
            "15059/15059 [==============================] - 222s 15ms/step - loss: 0.2596 - acc: 0.9202 - val_loss: 0.1420 - val_acc: 0.9657\n",
            "Epoch 3/3\n",
            "15059/15059 [==============================] - 220s 15ms/step - loss: 0.1694 - acc: 0.9600 - val_loss: 0.1248 - val_acc: 0.9705\n"
          ],
          "name": "stdout"
        },
        {
          "output_type": "execute_result",
          "data": {
            "text/plain": [
              "<keras.callbacks.History at 0x7f067948e748>"
            ]
          },
          "metadata": {
            "tags": []
          },
          "execution_count": 25
        }
      ]
    },
    {
      "cell_type": "code",
      "metadata": {
        "id": "Jw9s9tBOtCzb",
        "colab_type": "code",
        "outputId": "a772a7ea-154d-4f52-fc6d-607ca6dccd0d",
        "colab": {
          "base_uri": "https://localhost:8080/",
          "height": 51
        }
      },
      "source": [
        "model_3.evaluate(X_test, y_test, batch_size = 128)\n"
      ],
      "execution_count": 0,
      "outputs": [
        {
          "output_type": "stream",
          "text": [
            "6694/6694 [==============================] - 20s 3ms/step\n"
          ],
          "name": "stdout"
        },
        {
          "output_type": "execute_result",
          "data": {
            "text/plain": [
              "[0.1009964926214513, 0.9777412607237443]"
            ]
          },
          "metadata": {
            "tags": []
          },
          "execution_count": 26
        }
      ]
    },
    {
      "cell_type": "code",
      "metadata": {
        "id": "T6cKLXUrtC-y",
        "colab_type": "code",
        "colab": {}
      },
      "source": [
        ""
      ],
      "execution_count": 0,
      "outputs": []
    },
    {
      "cell_type": "markdown",
      "metadata": {
        "id": "QKt5V70etUU6",
        "colab_type": "text"
      },
      "source": [
        "### Part 5: Conceptual Questions:¶"
      ]
    },
    {
      "cell_type": "markdown",
      "metadata": {
        "id": "nxHmmk_YtaUP",
        "colab_type": "text"
      },
      "source": [
        "#### 5) Explain the difference between the relu activation function and the sigmoid activation function.¶\n",
        "\n",
        "Sigmoid functions are used in machine learning for the logistic regression and basic neural network implementations and they are the introductory activation units. Sigmoid functions are one of the most widely used activation functions. The main reason why we use sigmoid function is because it exists between (0 to 1). Therefore, it is especially used for models where we have to predict the probability as an output. Since probability of anything exists only between the range of 0 and 1, sigmoid is a better choice. But for advanced NN, Sigmoid functions are not preferable due to multiple drawbacks, like vanishing gradients. There are ways to work around this problem and sigmoid is still very popular in classification systems.\n",
        "\n",
        "Relu is recently started to gain popularity amongst activation functions. Most Deep Learning applications right now make use of Rele instead of Logistic Activation functions for Computer Vision, Speech Recognition and Deep Neural Networks etc. Relu has output 0 if the input is less than 0, and raw output otherwise. That is, if the input is greater than 0, the output is equal to the input. The operation of ReLU is closer to the way our biological neurons work. Relu is non-linear and has two additional major benefits compared to sigmoid: sparsity and a reduced likelihood of vanishing gradient. For larger Neural Networks, the speed of building models based off on Relu is very fast opposed to using Sigmoid\n",
        "\n",
        "\n"
      ]
    },
    {
      "cell_type": "markdown",
      "metadata": {
        "id": "2rjlXIe0tq-g",
        "colab_type": "text"
      },
      "source": [
        "##### 6) Describe what one epoch actually is (epoch was a parameter used in the .fit() method).\n",
        "\n",
        "The number of epochs is a hyperparameter that defines the number times that the learning algorithm will work through the entire training dataset. One epoch means that each sample in the training dataset has had an opportunity to update the internal model parameters (1 Epoch = 1 Forward pass + 1 Backward pass for ALL training samples) An epoch is comprised of one or more batches. For example, an epoch that has one batch is called the batch gradient descent learning algorithm. We can think of a for-loop over the number of epochs where each loop proceeds over the training dataset. Within this for-loop is another nested for-loop that iterates over each batch of samples, where one batch has the specified “batch size” number of samples. The number of epochs is traditionally large, often hundreds or thousands, allowing the learning algorithm to run until the error from the model has been sufficiently minimized.\n",
        "\n"
      ]
    },
    {
      "cell_type": "markdown",
      "metadata": {
        "id": "rtTFOE0Stvt2",
        "colab_type": "text"
      },
      "source": [
        "7) Explain how dropout works (you can look at the keras code and/or documentation) for (a) training, and (b) test data sets.\n",
        "\n",
        "Dropout is one of the most popular regularization techniques for deep neural networks. At every training step, every neuron (including the input neurons, but always excluding the output neurons) has a probability p of being temporarily “dropped out,” meaning it will be entirely ignored during this training step, but it may be active during the next step. The hyperparameter p is the dropout rate, and it is typically set to 50%. After training, neurons don’t get dropped anymore.\n",
        "\n",
        "Neurons trained with dropout cannot co-adapt with their neighboring neurons; they have to be as useful as possible on their own. They also cannot rely excessively on just a few input neurons; they must pay attention to each of their input neurons. They end up being less sensitive to slight changes in the inputs. In the end you get a more robust network that generalizes better.\n",
        "\n",
        "The power of dropout is that a unique neural network is generated at each training step. Since each neuron can be either present or absent, there is a total of 2N possible networks. This is such a huge number that it is virtually impossible for the same neural network to be sampled twice. Once you have run a 10,000 training steps, you have essentially trained 10,000 different neural networks (each with just one training instance). These neural networks are obviously not independent since they share many of their weights, but they are nevertheless all different. The resulting neural network can be seen as an averaging ensemble of all these smaller neural networks.\n",
        "\n"
      ]
    },
    {
      "cell_type": "markdown",
      "metadata": {
        "id": "tMtwfpght0ch",
        "colab_type": "text"
      },
      "source": [
        "8) Explain why problems such as this homework assignment are better modeled with RNNs than CNNs. What type of problem will CNNs outperform RNNs on?\n",
        "\n",
        "\n",
        "This homework assignment is \"identifying breach by predicting suspicious access\" using the Logfile, and RNN is designed to work with sequence prediction problems, therefore this assignment is better modeled with RNNs than CNNs.\n",
        "\n",
        "(RNN also better than CNN where data contains temporal properties, such as a time series and where the data is context sensitive, as in the case of sentence completion.)\n",
        "\n",
        "They are both different architecture’s of neural nets that perform well on different types of data but some types of data can be processed by either architecture. Examples of this are image classification and text classification, where both systems have been effective. Moreover, some deep learning applications may benefit from the combination of the two architectures.\n",
        "\n",
        "RNNs are good with series of data (one thing happens after another) and are used a lot in problems that can be framed as “what will happen next given…” while CNNs are especially good at problems like image classification - the general field of computer vision. CNN outperforms RNN on things like medical image analysis, image recognition, face detection and recognition systems, and full motion video analysis. Besides, CNN has been the subject of research and testing for other tasks, and it has been effective in solving traditional Natural Language Processing (NLP) tasks. Specifically, it has achieved very impressive results in semantic parsing, sentence modeling, and search query retrieval. CNNs have been employed in the field of drug discovery. It discovers chemical features, and has been used to predict novel biomolecules for combating disease. Finally CNNs have also been applied to more traditional machine learning problems, such as game playing.\n",
        "\n"
      ]
    },
    {
      "cell_type": "markdown",
      "metadata": {
        "id": "FQJUOxwqt3yy",
        "colab_type": "text"
      },
      "source": [
        "9) Explain what RNN problem is solved using LSTM and briefly describe how.\n",
        "\n",
        "\n",
        "LSTM is basically considered to avoid the problem of vanishing gradient in RNN (short term memory) - reason why some people say RNN has a bad memory. LSTM has internal mechanisms called gates that can regulate the flow of information. In other words, LSTM networks have some internal contextual state cells that act as long-term or short-term memory cells. These gates can learn which data in a sequence is important to keep or throw away. By doing that, it can pass relevant information down the long chain of sequences to make predictions\n",
        "\n",
        "The output of the LSTM network is modulated by the state of these cells which is a very important property when we need the prediction of the neural network to depend on the historical context of inputs, rather than only on the very last input. In other words, LSTM networks manage to keep contextual information of inputs by integrating a loop that allows information to flow from one step to the next. (LSTM predictions are always conditioned by the past experience of the network’s inputs). LSTM networks remembers and when to forget, through their forget gate weights."
      ]
    },
    {
      "cell_type": "markdown",
      "metadata": {
        "id": "ZaE2OXMfCWx7",
        "colab_type": "text"
      },
      "source": [
        "### End of Document"
      ]
    }
  ]
}